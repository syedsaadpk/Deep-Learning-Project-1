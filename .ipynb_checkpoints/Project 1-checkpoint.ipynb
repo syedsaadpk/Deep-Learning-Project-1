{
 "cells": [
  {
   "cell_type": "code",
   "execution_count": 2,
   "metadata": {},
   "outputs": [
    {
     "name": "stderr",
     "output_type": "stream",
     "text": [
      "C:\\Users\\dell\\Anaconda3\\lib\\site-packages\\h5py\\__init__.py:36: FutureWarning: Conversion of the second argument of issubdtype from `float` to `np.floating` is deprecated. In future, it will be treated as `np.float64 == np.dtype(float).type`.\n",
      "  from ._conv import register_converters as _register_converters\n",
      "Using TensorFlow backend.\n"
     ]
    }
   ],
   "source": [
    "import pandas \n",
    "import numpy \n",
    "import keras\n",
    "from keras.models import Sequential\n",
    "from keras.layers import Dense\n",
    "from keras import models\n",
    "from keras import layers\n",
    "from keras.wrappers.scikit_learn import KerasClassifier\n",
    "from sklearn.model_selection import cross_val_score\n",
    "from sklearn.model_selection import StratifiedKFold\n",
    "from sklearn.preprocessing import StandardScaler\n",
    "from sklearn import preprocessing\n",
    "from sklearn.pipeline import Pipeline\n"
   ]
  },
  {
   "cell_type": "code",
   "execution_count": 3,
   "metadata": {},
   "outputs": [],
   "source": [
    "# fix random seed for reproducibility\n",
    "seed = 7 \n",
    "numpy.random.seed(seed)"
   ]
  },
  {
   "cell_type": "code",
   "execution_count": 6,
   "metadata": {},
   "outputs": [],
   "source": [
    "# load dataset\n",
    "dataframe = pandas.read_csv(\"sonar.csv\", header=None)\n",
    "from sklearn.utils import shuffle\n",
    "dataframe = shuffle(dataframe)\n",
    "dataset = dataframe.values\n",
    "# split into input (X) and output (Y) variables\n",
    "X = dataset[:,0:60].astype(float)\n",
    "Y = dataset[:,60]"
   ]
  },
  {
   "cell_type": "code",
   "execution_count": 7,
   "metadata": {},
   "outputs": [
    {
     "data": {
      "text/plain": [
       "array([[0.0084, 0.0153, 0.0291, ..., 0.0072, 0.0045, 'R'],\n",
       "       [0.0522, 0.0437, 0.018, ..., 0.0077, 0.0031, 'M'],\n",
       "       [0.013, 0.0006, 0.0088, ..., 0.0023, 0.0016, 'R'],\n",
       "       ...,\n",
       "       [0.0209, 0.0261, 0.012, ..., 0.0129, 0.0023, 'M'],\n",
       "       [0.0635, 0.0709, 0.0453, ..., 0.004, 0.0051, 'M'],\n",
       "       [0.0269, 0.0383, 0.0505, ..., 0.0055, 0.0057, 'M']], dtype=object)"
      ]
     },
     "execution_count": 7,
     "metadata": {},
     "output_type": "execute_result"
    }
   ],
   "source": [
    "dataset"
   ]
  },
  {
   "cell_type": "code",
   "execution_count": 8,
   "metadata": {},
   "outputs": [],
   "source": [
    "# encode class values as integers\n",
    "encoder = preprocessing.LabelEncoder()\n",
    "encoder.fit(Y)\n",
    "encoded_Y = encoder.transform(Y)\n",
    "# convert integers to dummy variables (i.e. one hot encoded)\n",
    "#dummy_y = np_utils.to_categorical(encoded_Y)"
   ]
  },
  {
   "cell_type": "code",
   "execution_count": 9,
   "metadata": {},
   "outputs": [
    {
     "data": {
      "text/plain": [
       "array([1, 0, 1, 1, 1, 0, 1, 0, 1, 0, 1, 1, 1, 1, 0, 0, 0, 0, 0, 0, 0, 0,\n",
       "       1, 1, 0, 0, 0, 1, 0, 1, 0, 0, 1, 1, 0, 1, 0, 1, 0, 1, 0, 1, 0, 0,\n",
       "       0, 0, 0, 1, 0, 0, 1, 1, 0, 1, 1, 1, 1, 0, 1, 0, 0, 1, 1, 1, 1, 0,\n",
       "       0, 0, 1, 0, 0, 1, 0, 1, 0, 0, 0, 0, 1, 0, 0, 0, 1, 0, 1, 1, 0, 0,\n",
       "       1, 1, 1, 0, 1, 0, 1, 1, 1, 0, 1, 0, 0, 0, 0, 1, 0, 0, 0, 1, 1, 0,\n",
       "       1, 0, 1, 0, 1, 1, 1, 1, 0, 1, 1, 1, 1, 0, 0, 1, 0, 0, 1, 0, 0, 0,\n",
       "       1, 0, 1, 1, 0, 0, 1, 0, 0, 0, 0, 0, 1, 1, 1, 1, 1, 1, 1, 1, 0, 0,\n",
       "       0, 1, 0, 0, 0, 0, 0, 0, 1, 0, 0, 1, 0, 0, 1, 1, 1, 1, 1, 0, 0, 0,\n",
       "       1, 1, 1, 0, 0, 1, 1, 0, 0, 1, 1, 0, 0, 0, 1, 1, 1, 0, 0, 1, 1, 1,\n",
       "       0, 0, 1, 0, 0, 1, 0, 0, 0, 0], dtype=int64)"
      ]
     },
     "execution_count": 9,
     "metadata": {},
     "output_type": "execute_result"
    }
   ],
   "source": [
    "encoded_Y"
   ]
  },
  {
   "cell_type": "markdown",
   "metadata": {},
   "source": [
    "## Baseline Neural Network Model "
   ]
  },
  {
   "cell_type": "code",
   "execution_count": 11,
   "metadata": {
    "scrolled": true
   },
   "outputs": [],
   "source": [
    "# define baseline model\n",
    "def baseline_model():\n",
    "\n",
    "    model = models.Sequential()\n",
    "    model.add(layers.Dense(60, activation='relu',\n",
    "                          input_shape=(60,)))\n",
    "    model.add(layers.Dense(1, activation='sigmoid'))\n",
    "    model.compile(optimizer='adam', loss='binary_crossentropy', metrics=['accuracy'])\n",
    "\n",
    "\n",
    "    return model\n"
   ]
  },
  {
   "cell_type": "code",
   "execution_count": 12,
   "metadata": {},
   "outputs": [
    {
     "name": "stdout",
     "output_type": "stream",
     "text": [
      "Results: 83.23% (5.76%)\n"
     ]
    }
   ],
   "source": [
    "# evaluate model with standardized dataset\n",
    "estimator = KerasClassifier(build_fn=baseline_model, epochs=100, batch_size=5, verbose=0)\n",
    "kfold = StratifiedKFold(n_splits=10, shuffle=True, random_state=seed)\n",
    "results = cross_val_score(estimator, X, encoded_Y, cv=kfold)\n",
    "print(\"Results: %.2f%% (%.2f%%)\" % (results.mean()*100, results.std()*100))\n"
   ]
  },
  {
   "cell_type": "markdown",
   "metadata": {},
   "source": [
    "## Baseline Model with Standardized Dataset"
   ]
  },
  {
   "cell_type": "code",
   "execution_count": 13,
   "metadata": {},
   "outputs": [
    {
     "name": "stdout",
     "output_type": "stream",
     "text": [
      "Standardized: 85.59% (7.46%)\n"
     ]
    }
   ],
   "source": [
    "# evaluate baseline model with standardized dataset\n",
    "numpy.random.seed(seed)\n",
    "estimators = []\n",
    "estimators.append(('standardize', StandardScaler()))\n",
    "history = estimators.append(('mlp', KerasClassifier(build_fn=baseline_model, epochs=100, batch_size=5, verbose=0)))\n",
    "pipeline = Pipeline(estimators)\n",
    "kfold = StratifiedKFold(n_splits=10, shuffle=True, random_state=seed)\n",
    "results = cross_val_score(pipeline, X, encoded_Y, cv=kfold)\n",
    "print(\"Standardized: %.2f%% (%.2f%%)\" % (results.mean()*100, results.std()*100))\n"
   ]
  },
  {
   "cell_type": "markdown",
   "metadata": {},
   "source": [
    "## Smaller Network"
   ]
  },
  {
   "cell_type": "code",
   "execution_count": 14,
   "metadata": {},
   "outputs": [
    {
     "name": "stdout",
     "output_type": "stream",
     "text": [
      "Smaller: 83.09% (6.41%)\n"
     ]
    }
   ],
   "source": [
    "# smaller model\n",
    "def create_smaller():\n",
    "    model = models.Sequential()\n",
    "    model.add(layers.Dense(30, activation='relu',\n",
    "                          input_shape=(60,)))\n",
    "    model.add(layers.Dense(1, activation='sigmoid'))\n",
    "    model.compile(optimizer='adam', loss='binary_crossentropy', metrics=['accuracy'])\n",
    "\n",
    "    \n",
    "    return model\n",
    "estimators = []\n",
    "estimators.append(('standardize', StandardScaler()))\n",
    "estimators.append(('mlp', KerasClassifier(build_fn=create_smaller, epochs=100, batch_size=5, verbose=0)))\n",
    "pipeline = Pipeline(estimators)\n",
    "kfold = StratifiedKFold(n_splits=10, shuffle=True, random_state=seed)\n",
    "results = cross_val_score(pipeline, X, encoded_Y, cv=kfold)\n",
    "print(\"Smaller: %.2f%% (%.2f%%)\" % (results.mean()*100, results.std()*100))\n"
   ]
  },
  {
   "cell_type": "markdown",
   "metadata": {},
   "source": [
    "## Larger Network"
   ]
  },
  {
   "cell_type": "code",
   "execution_count": 15,
   "metadata": {},
   "outputs": [
    {
     "name": "stdout",
     "output_type": "stream",
     "text": [
      "Larger: 85.09% (7.25%)\n"
     ]
    }
   ],
   "source": [
    "# larger model\n",
    "def create_larger():\n",
    "    model = models.Sequential()\n",
    "    model.add(layers.Dense(60, activation='relu',\n",
    "                          input_shape=(60,)))\n",
    "    model.add(layers.Dense(30, activation='relu'))\n",
    "    model.add(layers.Dense(1, activation='sigmoid'))\n",
    "    model.compile(optimizer='adam', loss='binary_crossentropy', metrics=['accuracy'])\n",
    "    return model\n",
    "estimators = []\n",
    "estimators.append(('standardize', StandardScaler()))\n",
    "estimators.append(('mlp', KerasClassifier(build_fn=create_larger, epochs=100, batch_size=5, verbose=0)))\n",
    "pipeline = Pipeline(estimators)\n",
    "kfold = StratifiedKFold(n_splits=10, shuffle=True, random_state=seed)\n",
    "results = cross_val_score(pipeline, X, encoded_Y, cv=kfold)\n",
    "print(\"Larger: %.2f%% (%.2f%%)\" % (results.mean()*100, results.std()*100))\n",
    "\n"
   ]
  },
  {
   "cell_type": "markdown",
   "metadata": {},
   "source": [
    "## Overfit Model"
   ]
  },
  {
   "cell_type": "code",
   "execution_count": 20,
   "metadata": {},
   "outputs": [
    {
     "name": "stdout",
     "output_type": "stream",
     "text": [
      "Larger: 85.11% (7.85%)\n"
     ]
    }
   ],
   "source": [
    "# larger model\n",
    "def create_overfit():\n",
    "    model = models.Sequential()\n",
    "    model.add(layers.Dense(60, activation='relu',\n",
    "                          input_shape=(60,)))\n",
    "    model.add(layers.Dense(30, activation='relu'))\n",
    "    model.add(layers.Dense(1, activation='sigmoid'))\n",
    "    model.compile(optimizer='adam', loss='binary_crossentropy', metrics=['accuracy'])\n",
    "    return model\n",
    "estimators = []\n",
    "estimators.append(('standardize', StandardScaler()))\n",
    "history = estimators.append(('mlp', KerasClassifier(build_fn=create_overfit, epochs=200, batch_size=5, verbose=0)))\n",
    "pipeline = Pipeline(estimators)\n",
    "kfold = StratifiedKFold(n_splits=10, shuffle=True, random_state=seed)\n",
    "results = cross_val_score(pipeline, X, encoded_Y, cv=kfold)\n",
    "print(\"Larger: %.2f%% (%.2f%%)\" % (results.mean()*100, results.std()*100))\n",
    "\n"
   ]
  },
  {
   "cell_type": "markdown",
   "metadata": {},
   "source": [
    "## Optimum Model"
   ]
  },
  {
   "cell_type": "code",
   "execution_count": 26,
   "metadata": {},
   "outputs": [],
   "source": [
    "# define baseline model\n",
    "#from keras importfrom keras.models import Sequential\n",
    "from keras.layers import Dropout\n",
    "\n",
    "def optimum_model():\n",
    "\n",
    "    \n",
    "    model = models.Sequential()\n",
    "    model.add(layers.Dense(60, activation='relu',\n",
    "                          input_shape=(60,)))\n",
    "    model.add(Dropout(0.2))\n",
    "    model.add(layers.Dense(1, activation='sigmoid'))\n",
    "    model.compile(optimizer='adam', loss='binary_crossentropy', metrics=['accuracy'])\n",
    "\n",
    "    return model\n"
   ]
  },
  {
   "cell_type": "code",
   "execution_count": 21,
   "metadata": {
    "scrolled": true
   },
   "outputs": [
    {
     "name": "stdout",
     "output_type": "stream",
     "text": [
      "Standardized: 88.04% (8.59%)\n"
     ]
    }
   ],
   "source": [
    "\n",
    "\n",
    "\n",
    "# evaluate baseline model with standardized dataset\n",
    "numpy.random.seed(seed)\n",
    "estimators = []\n",
    "estimators.append(('standardize', StandardScaler()))\n",
    "history = estimators.append(('mlp', KerasClassifier(build_fn=optimum_model, epochs=70, batch_size=5, verbose=0)))\n",
    "pipeline = Pipeline(estimators)\n",
    "kfold = StratifiedKFold(n_splits=10, shuffle=True, random_state=seed)\n",
    "results = cross_val_score(pipeline, X, encoded_Y, cv=kfold)\n",
    "print(\"Standardized: %.2f%% (%.2f%%)\" % (results.mean()*100, results.std()*100))"
   ]
  },
  {
   "cell_type": "markdown",
   "metadata": {},
   "source": [
    "## Using Keras Functional API"
   ]
  },
  {
   "cell_type": "code",
   "execution_count": 22,
   "metadata": {},
   "outputs": [
    {
     "name": "stdout",
     "output_type": "stream",
     "text": [
      "Standardized: 86.09% (7.57%)\n"
     ]
    }
   ],
   "source": [
    "from keras.layers import Input, Dense\n",
    "from keras.models import Model\n",
    "\n",
    "def functional_model():\n",
    "\n",
    " # This returns a tensor\n",
    " inputs = keras.Input(shape=(60,))\n",
    "\n",
    " # a layer instance is callable on a tensor, and returns a tensor\n",
    " x = Dense(60, activation='relu')(inputs)\n",
    " predictions = Dense(1, activation='sigmoid')(x)\n",
    "\n",
    " # This creates a model that includes\n",
    " # the InputA layer and three Dense layers\n",
    " model = Model(inputs=inputs, outputs=predictions)\n",
    " model.compile(optimizer='adam',\n",
    "              loss='binary_crossentropy',\n",
    "              metrics=['accuracy'])\n",
    " return model\n",
    "\n",
    "\n",
    "\n",
    "\n",
    "\n",
    "# evaluate baseline model with standardized dataset\n",
    "numpy.random.seed(seed)\n",
    "estimators = []\n",
    "estimators.append(('standardize', StandardScaler()))\n",
    "history = estimators.append(('mlp', KerasClassifier(build_fn=functional_model, epochs=100, batch_size=5, verbose=0)))\n",
    "pipeline = Pipeline(estimators)\n",
    "kfold = StratifiedKFold(n_splits=10, shuffle=True, random_state=seed)\n",
    "results = cross_val_score(pipeline, X, encoded_Y, cv=kfold)\n",
    "print(\"Standardized: %.2f%% (%.2f%%)\" % (results.mean()*100, results.std()*100))"
   ]
  },
  {
   "cell_type": "markdown",
   "metadata": {},
   "source": [
    "## Using Model Subclassing"
   ]
  },
  {
   "cell_type": "code",
   "execution_count": 16,
   "metadata": {},
   "outputs": [
    {
     "name": "stdout",
     "output_type": "stream",
     "text": [
      "Epoch 1/70\n",
      "208/208 [==============================] - 1s 4ms/step - loss: 0.6970 - acc: 0.4808\n",
      "Epoch 2/70\n",
      "208/208 [==============================] - 0s 614us/step - loss: 0.6568 - acc: 0.5769\n",
      "Epoch 3/70\n",
      "208/208 [==============================] - 0s 421us/step - loss: 0.6330 - acc: 0.7356\n",
      "Epoch 4/70\n",
      "208/208 [==============================] - 0s 462us/step - loss: 0.6082 - acc: 0.6779\n",
      "Epoch 5/70\n",
      "208/208 [==============================] - 0s 564us/step - loss: 0.5820 - acc: 0.7452\n",
      "Epoch 6/70\n",
      "208/208 [==============================] - 0s 597us/step - loss: 0.5584 - acc: 0.7644\n",
      "Epoch 7/70\n",
      "208/208 [==============================] - 0s 519us/step - loss: 0.5377 - acc: 0.7740\n",
      "Epoch 8/70\n",
      "208/208 [==============================] - 0s 597us/step - loss: 0.5183 - acc: 0.7981\n",
      "Epoch 9/70\n",
      "208/208 [==============================] - 0s 424us/step - loss: 0.4997 - acc: 0.8125\n",
      "Epoch 10/70\n",
      "208/208 [==============================] - 0s 462us/step - loss: 0.4835 - acc: 0.8125\n",
      "Epoch 11/70\n",
      "208/208 [==============================] - 0s 482us/step - loss: 0.4667 - acc: 0.8221\n",
      "Epoch 12/70\n",
      "208/208 [==============================] - 0s 462us/step - loss: 0.4835 - acc: 0.7692\n",
      "Epoch 13/70\n",
      "208/208 [==============================] - 0s 462us/step - loss: 0.4440 - acc: 0.8221\n",
      "Epoch 14/70\n",
      "208/208 [==============================] - 0s 539us/step - loss: 0.4325 - acc: 0.8077\n",
      "Epoch 15/70\n",
      "208/208 [==============================] - 0s 540us/step - loss: 0.4271 - acc: 0.8173\n",
      "Epoch 16/70\n",
      "208/208 [==============================] - 0s 539us/step - loss: 0.4126 - acc: 0.8317\n",
      "Epoch 17/70\n",
      "208/208 [==============================] - 0s 578us/step - loss: 0.4072 - acc: 0.8317\n",
      "Epoch 18/70\n",
      "208/208 [==============================] - 0s 539us/step - loss: 0.3991 - acc: 0.8558\n",
      "Epoch 19/70\n",
      "208/208 [==============================] - 0s 578us/step - loss: 0.4096 - acc: 0.8221\n",
      "Epoch 20/70\n",
      "208/208 [==============================] - 0s 462us/step - loss: 0.3850 - acc: 0.8413\n",
      "Epoch 21/70\n",
      "208/208 [==============================] - 0s 520us/step - loss: 0.3791 - acc: 0.8365\n",
      "Epoch 22/70\n",
      "208/208 [==============================] - 0s 539us/step - loss: 0.3724 - acc: 0.8317\n",
      "Epoch 23/70\n",
      "208/208 [==============================] - 0s 462us/step - loss: 0.3656 - acc: 0.8462\n",
      "Epoch 24/70\n",
      "208/208 [==============================] - ETA: 0s - loss: 0.3515 - acc: 0.851 - 0s 443us/step - loss: 0.3578 - acc: 0.8510\n",
      "Epoch 25/70\n",
      "208/208 [==============================] - 0s 519us/step - loss: 0.3553 - acc: 0.8413\n",
      "Epoch 26/70\n",
      "208/208 [==============================] - 0s 501us/step - loss: 0.3536 - acc: 0.8413\n",
      "Epoch 27/70\n",
      "208/208 [==============================] - 0s 578us/step - loss: 0.3471 - acc: 0.8510\n",
      "Epoch 28/70\n",
      "208/208 [==============================] - 0s 551us/step - loss: 0.3373 - acc: 0.8846\n",
      "Epoch 29/70\n",
      "208/208 [==============================] - 0s 638us/step - loss: 0.3439 - acc: 0.8606\n",
      "Epoch 30/70\n",
      "208/208 [==============================] - 0s 539us/step - loss: 0.3471 - acc: 0.8606\n",
      "Epoch 31/70\n",
      "208/208 [==============================] - 0s 482us/step - loss: 0.3287 - acc: 0.8702\n",
      "Epoch 32/70\n",
      "208/208 [==============================] - 0s 443us/step - loss: 0.3250 - acc: 0.8750\n",
      "Epoch 33/70\n",
      "208/208 [==============================] - 0s 537us/step - loss: 0.3212 - acc: 0.8654\n",
      "Epoch 34/70\n",
      "208/208 [==============================] - 0s 542us/step - loss: 0.3181 - acc: 0.8702\n",
      "Epoch 35/70\n",
      "208/208 [==============================] - 0s 482us/step - loss: 0.3124 - acc: 0.8654\n",
      "Epoch 36/70\n",
      "208/208 [==============================] - 0s 482us/step - loss: 0.3022 - acc: 0.8654\n",
      "Epoch 37/70\n",
      "208/208 [==============================] - 0s 482us/step - loss: 0.3005 - acc: 0.8894\n",
      "Epoch 38/70\n",
      "208/208 [==============================] - 0s 482us/step - loss: 0.3011 - acc: 0.8846\n",
      "Epoch 39/70\n",
      "208/208 [==============================] - 0s 424us/step - loss: 0.2950 - acc: 0.9038\n",
      "Epoch 40/70\n",
      "208/208 [==============================] - 0s 607us/step - loss: 0.2867 - acc: 0.8990\n",
      "Epoch 41/70\n",
      "208/208 [==============================] - 0s 498us/step - loss: 0.2881 - acc: 0.8942\n",
      "Epoch 42/70\n",
      "208/208 [==============================] - 0s 429us/step - loss: 0.2893 - acc: 0.8846\n",
      "Epoch 43/70\n",
      "208/208 [==============================] - 0s 440us/step - loss: 0.2829 - acc: 0.8750\n",
      "Epoch 44/70\n",
      "208/208 [==============================] - 0s 409us/step - loss: 0.2723 - acc: 0.8846\n",
      "Epoch 45/70\n",
      "208/208 [==============================] - 0s 443us/step - loss: 0.2739 - acc: 0.8942\n",
      "Epoch 46/70\n",
      "208/208 [==============================] - 0s 462us/step - loss: 0.2671 - acc: 0.9087\n",
      "Epoch 47/70\n",
      "208/208 [==============================] - 0s 405us/step - loss: 0.2662 - acc: 0.9038\n",
      "Epoch 48/70\n",
      "208/208 [==============================] - 0s 422us/step - loss: 0.2597 - acc: 0.9183\n",
      "Epoch 49/70\n",
      "208/208 [==============================] - 0s 461us/step - loss: 0.2590 - acc: 0.8942\n",
      "Epoch 50/70\n",
      "208/208 [==============================] - 0s 520us/step - loss: 0.2579 - acc: 0.9135\n",
      "Epoch 51/70\n",
      "208/208 [==============================] - 0s 500us/step - loss: 0.2560 - acc: 0.8990\n",
      "Epoch 52/70\n",
      "208/208 [==============================] - 0s 809us/step - loss: 0.2502 - acc: 0.9183\n",
      "Epoch 53/70\n",
      "208/208 [==============================] - 0s 616us/step - loss: 0.2453 - acc: 0.9183\n",
      "Epoch 54/70\n",
      "208/208 [==============================] - 0s 501us/step - loss: 0.2449 - acc: 0.9087\n",
      "Epoch 55/70\n",
      "208/208 [==============================] - 0s 462us/step - loss: 0.2467 - acc: 0.9135\n",
      "Epoch 56/70\n",
      "208/208 [==============================] - 0s 405us/step - loss: 0.2350 - acc: 0.9135\n",
      "Epoch 57/70\n",
      "208/208 [==============================] - 0s 443us/step - loss: 0.2317 - acc: 0.9183\n",
      "Epoch 58/70\n",
      "208/208 [==============================] - 0s 443us/step - loss: 0.2389 - acc: 0.9183\n",
      "Epoch 59/70\n",
      "208/208 [==============================] - 0s 443us/step - loss: 0.2262 - acc: 0.9135\n",
      "Epoch 60/70\n",
      "208/208 [==============================] - 0s 441us/step - loss: 0.2226 - acc: 0.9375\n",
      "Epoch 61/70\n",
      "208/208 [==============================] - 0s 424us/step - loss: 0.2212 - acc: 0.9087\n",
      "Epoch 62/70\n",
      "208/208 [==============================] - 0s 400us/step - loss: 0.2231 - acc: 0.9231\n",
      "Epoch 63/70\n",
      "208/208 [==============================] - 0s 462us/step - loss: 0.2163 - acc: 0.9375\n",
      "Epoch 64/70\n",
      "208/208 [==============================] - 0s 539us/step - loss: 0.2114 - acc: 0.9183\n",
      "Epoch 65/70\n",
      "208/208 [==============================] - 0s 518us/step - loss: 0.2113 - acc: 0.9279\n",
      "Epoch 66/70\n",
      "208/208 [==============================] - 0s 438us/step - loss: 0.2179 - acc: 0.9279\n",
      "Epoch 67/70\n",
      "208/208 [==============================] - 0s 438us/step - loss: 0.2030 - acc: 0.9327\n",
      "Epoch 68/70\n",
      "208/208 [==============================] - 0s 501us/step - loss: 0.1997 - acc: 0.9375\n",
      "Epoch 69/70\n",
      "208/208 [==============================] - 0s 628us/step - loss: 0.1998 - acc: 0.9375\n",
      "Epoch 70/70\n",
      "208/208 [==============================] - 0s 462us/step - loss: 0.1989 - acc: 0.9375\n"
     ]
    },
    {
     "data": {
      "text/plain": [
       "<tensorflow.python.keras._impl.keras.callbacks.History at 0x2c4bf1b93c8>"
      ]
     },
     "execution_count": 16,
     "metadata": {},
     "output_type": "execute_result"
    }
   ],
   "source": [
    "import tensorflow as tf\n",
    "\n",
    "inputs = keras.Input(shape=(60,))\n",
    "\n",
    "class MyModel(tf.keras.Model):\n",
    "\n",
    "  def __init__(self):\n",
    "    super(MyModel, self).__init__()\n",
    "    self.dense1 = tf.keras.layers.Dense(60, activation=tf.nn.relu)\n",
    "    self.dense2 = tf.keras.layers.Dense(1, activation=tf.nn.sigmoid)\n",
    "\n",
    "  def call(self, inputs):\n",
    "    x = self.dense1(inputs)\n",
    "    return self.dense2(x)\n",
    "\n",
    "model = MyModel()\n",
    "\n",
    "model.compile(optimizer='adam',\n",
    "              loss='binary_crossentropy',\n",
    "              metrics=['accuracy'])\n",
    "\n",
    "model.fit(X, encoded_Y, epochs=70, batch_size=5)\n",
    "    "
   ]
  },
  {
   "cell_type": "markdown",
   "metadata": {},
   "source": [
    "## k-fold Cross Validation without using scikit-learn Library"
   ]
  },
  {
   "cell_type": "code",
   "execution_count": 23,
   "metadata": {
    "scrolled": true
   },
   "outputs": [
    {
     "name": "stdout",
     "output_type": "stream",
     "text": [
      "processing fold # 0\n",
      "20/20 [==============================] - 1s 63ms/step\n",
      "processing fold # 1\n",
      "20/20 [==============================] - 2s 88ms/step\n",
      "processing fold # 2\n",
      "20/20 [==============================] - 1s 45ms/step\n",
      "processing fold # 3\n",
      "20/20 [==============================] - 1s 29ms/step\n",
      "processing fold # 4\n",
      "20/20 [==============================] - 1s 68ms/step\n",
      "processing fold # 5\n",
      "20/20 [==============================] - 4s 200ms/step\n",
      "processing fold # 6\n",
      "20/20 [==============================] - 1s 47ms/step\n",
      "processing fold # 7\n",
      "20/20 [==============================] - 1s 69ms/step\n",
      "processing fold # 8\n",
      "20/20 [==============================] - 1s 39ms/step\n",
      "processing fold # 9\n",
      "20/20 [==============================] - 1s 38ms/step\n"
     ]
    }
   ],
   "source": [
    "import numpy as np\n",
    "\n",
    "k = 10\n",
    "num_val_samples = len(X) // k\n",
    "num_epochs = 70\n",
    "all_scores = []\n",
    "for i in range(k):\n",
    "    print('processing fold #', i)\n",
    "    # Prepare the vncoded_Y[i * num_val_samples: (i + 1) * num_val_samples]\n",
    "    val_data = X[i * num_val_samples: (i + 1) * num_val_samples]\n",
    "    val_targets = encoded_Y[i * num_val_samples: (i + 1) * num_val_samples]\n",
    "    # Prepare the training data: data from all other partitions\n",
    "    partial_train_data = np.concatenate(\n",
    "        [X[:i * num_val_samples],\n",
    "         X[(i + 1) * num_val_samples:]],\n",
    "        axis=0)\n",
    "    partial_train_targets = np.concatenate(\n",
    "        [encoded_Y[:i * num_val_samples],\n",
    "         encoded_Y[(i + 1) * num_val_samples:]],\n",
    "        axis=0)\n",
    "\n",
    "    # Build the Keras model (already compiled)\n",
    "    model = MyModel()\n",
    "    \n",
    "    model.compile(optimizer='adam',\n",
    "    loss='binary_crossentropy',\n",
    "              metrics=['accuracy'])\n",
    "    # Train the model (in silent mode, verbose=0)\n",
    "    model.fit(partial_train_data, partial_train_targets, epochs=num_epochs, batch_size=5, verbose=0)\n",
    "    #          epochs=num_epochs,validation_split=10, shuffle=True, batch_size=5, verbose=0)\n",
    "    # Evaluate the model on the validation data\n",
    "    val_err, val_acc = model.evaluate(val_data, val_targets, verbose=1)\n",
    "    all_scores.append(val_acc)"
   ]
  },
  {
   "cell_type": "code",
   "execution_count": 24,
   "metadata": {},
   "outputs": [
    {
     "name": "stdout",
     "output_type": "stream",
     "text": [
      "Standardized: 80.00% (7.42%)\n"
     ]
    }
   ],
   "source": [
    "###### all_scores\n",
    "print(\"Standardized: %.2f%% (%.2f%%)\" % (np.mean(all_scores)*100, np.std(all_scores)*100))\n"
   ]
  }
 ],
 "metadata": {
  "kernelspec": {
   "display_name": "Python 3",
   "language": "python",
   "name": "python3"
  },
  "language_info": {
   "codemirror_mode": {
    "name": "ipython",
    "version": 3
   },
   "file_extension": ".py",
   "mimetype": "text/x-python",
   "name": "python",
   "nbconvert_exporter": "python",
   "pygments_lexer": "ipython3",
   "version": "3.7.3"
  }
 },
 "nbformat": 4,
 "nbformat_minor": 2
}
